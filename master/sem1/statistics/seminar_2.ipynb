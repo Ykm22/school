{
 "cells": [
  {
   "cell_type": "markdown",
   "id": "210e3a9b-18b5-4c18-a4d8-6d7e308d5233",
   "metadata": {},
   "source": [
    "simulari de mana la 2 :( </br>\n",
    "folosind numpy.random.rnd() </br>\n",
    "compara cu algoritmi din librarii, aflarea erorii"
   ]
  },
  {
   "cell_type": "markdown",
   "id": "15be6f6a-d553-4c77-afb0-2b21a0fd427a",
   "metadata": {},
   "source": [
    "rnd, rand, randn -> np.random.rnd(), np.random.randn(), np.random.rnd(m, n)"
   ]
  },
  {
   "cell_type": "code",
   "execution_count": 1,
   "id": "77160f1a-ad19-41cc-8dfe-c6e8fc62d4f3",
   "metadata": {},
   "outputs": [],
   "source": [
    "import numpy as np"
   ]
  },
  {
   "cell_type": "code",
   "execution_count": 10,
   "id": "b57ea809-f47e-49d0-851e-90cbb5debd9b",
   "metadata": {},
   "outputs": [
    {
     "data": {
      "text/plain": [
       "array([[0.90004957, 0.79242771, 0.6007612 , 0.4565535 ],\n",
       "       [0.43882218, 0.64921372, 0.94690316, 0.52388829],\n",
       "       [0.3653279 , 0.49943881, 0.78664914, 0.50654543]])"
      ]
     },
     "execution_count": 10,
     "metadata": {},
     "output_type": "execute_result"
    }
   ],
   "source": [
    "np.random.rand(3, 4)"
   ]
  },
  {
   "cell_type": "code",
   "execution_count": 13,
   "id": "a875c3f8-47a9-44f4-afa0-ab34690c14e5",
   "metadata": {},
   "outputs": [
    {
     "data": {
      "text/plain": [
       "array([[0.84031303, 0.15839217, 0.91843825]])"
      ]
     },
     "execution_count": 13,
     "metadata": {},
     "output_type": "execute_result"
    }
   ],
   "source": [
    "np.random.rand(1, 3)"
   ]
  }
 ],
 "metadata": {
  "kernelspec": {
   "display_name": "SageMath 10.3",
   "language": "sage",
   "name": "sagemath"
  },
  "language_info": {
   "codemirror_mode": {
    "name": "ipython",
    "version": 3
   },
   "file_extension": ".py",
   "mimetype": "text/x-python",
   "name": "python",
   "nbconvert_exporter": "python",
   "pygments_lexer": "ipython3",
   "version": "3.11.9"
  }
 },
 "nbformat": 4,
 "nbformat_minor": 5
}
