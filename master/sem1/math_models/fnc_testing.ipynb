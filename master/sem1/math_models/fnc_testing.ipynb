{
 "cells": [
  {
   "cell_type": "code",
   "execution_count": 2,
   "id": "8ff41671-f58e-420e-a9a5-93d8f48d61bb",
   "metadata": {},
   "outputs": [],
   "source": [
    "%display latex"
   ]
  },
  {
   "cell_type": "code",
   "execution_count": null,
   "id": "c4bd5545-9589-4e49-95e2-56aded0cd7b5",
   "metadata": {},
   "outputs": [],
   "source": [
    "int_eq:=S(n+1)=S(n)+p*S0;\n",
    "rsolve({int_eq,S(0)=S0},S(n));"
   ]
  },
  {
   "cell_type": "code",
   "execution_count": 8,
   "id": "6a871cdd-daa2-44b6-a0f3-6b597c883841",
   "metadata": {},
   "outputs": [
    {
     "name": "stdout",
     "output_type": "stream",
     "text": [
      "Solution:\n",
      "S0*n*p + S0\n",
      "<class 'sympy.core.add.Add'>\n",
      "\n",
      "Simplified solution:\n",
      "S0*(n*p + 1)\n"
     ]
    }
   ],
   "source": [
    "from sympy import Function, Symbol, rsolve, sympify\n",
    "\n",
    "# Define symbols and function\n",
    "n = Symbol('n')\n",
    "p = Symbol('p')\n",
    "S0 = Symbol('S0')\n",
    "S = Function('S')\n",
    "\n",
    "# Define the recurrence relation\n",
    "int_eq = S(n+1) - S(n) - p*S0\n",
    "\n",
    "# Solve the recurrence relation\n",
    "solution = rsolve(int_eq, S(n), {S(0): S0})\n",
    "\n",
    "print(\"Solution:\")\n",
    "print(solution)\n",
    "\n",
    "# If you want to simplify the solution\n",
    "simplified_solution = solution.simplify()\n",
    "print(\"\\nSimplified solution:\")\n",
    "print(simplified_solution)"
   ]
  }
 ],
 "metadata": {
  "kernelspec": {
   "display_name": "SageMath 10.3",
   "language": "sage",
   "name": "sagemath"
  },
  "language_info": {
   "codemirror_mode": {
    "name": "ipython",
    "version": 3
   },
   "file_extension": ".py",
   "mimetype": "text/x-python",
   "name": "python",
   "nbconvert_exporter": "python",
   "pygments_lexer": "ipython3",
   "version": "3.11.9"
  }
 },
 "nbformat": 4,
 "nbformat_minor": 5
}
